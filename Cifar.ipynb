{
  "nbformat": 4,
  "nbformat_minor": 0,
  "metadata": {
    "colab": {
      "name": "Teksands_Cifar",
      "provenance": []
    },
    "kernelspec": {
      "name": "python3",
      "display_name": "Python 3"
    },
    "language_info": {
      "name": "python"
    },
    "accelerator": "GPU"
  },
  "cells": [
    {
      "cell_type": "code",
      "execution_count": 1,
      "metadata": {
        "id": "4AAbMERI1rh9"
      },
      "outputs": [],
      "source": [
        "from tensorflow.keras.models import Sequential \n",
        "from tensorflow.keras.layers import Flatten, Dense, Dropout, BatchNormalization\n",
        "from tensorflow.keras.models import Model \n",
        "from tensorflow.keras.applications.vgg16 import VGG16 , preprocess_input\n",
        "from tensorflow.keras.preprocessing import image\n",
        "from tensorflow.keras.preprocessing.image import ImageDataGenerator\n",
        "import tensorflow\n",
        "from tensorflow.keras.preprocessing.image import load_img, img_to_array\n",
        "import cv2 \n",
        "import numpy as np "
      ]
    },
    {
      "cell_type": "code",
      "source": [
        "input_shape = [32,32,3]\n",
        "model  = VGG16(input_shape = input_shape , weights = 'imagenet' , include_top = False)"
      ],
      "metadata": {
        "id": "FVKfJ1kX2Bn6"
      },
      "execution_count": 5,
      "outputs": []
    },
    {
      "cell_type": "code",
      "source": [
        "for layers in model.layers : \n",
        "  layers.trainable = False "
      ],
      "metadata": {
        "id": "Ngnlu6CY3J4E"
      },
      "execution_count": 6,
      "outputs": []
    },
    {
      "cell_type": "code",
      "source": [
        "x = Flatten()(model.output)\n",
        "output = Dense(10 , activation = 'softmax')(x)"
      ],
      "metadata": {
        "id": "Co4N2JV13PUb"
      },
      "execution_count": 7,
      "outputs": []
    },
    {
      "cell_type": "code",
      "source": [
        "model1 = Model(inputs = model.input , outputs = output)\n",
        "model1.summary()"
      ],
      "metadata": {
        "colab": {
          "base_uri": "https://localhost:8080/"
        },
        "id": "R3CrmU0t30jd",
        "outputId": "9a122914-265c-4587-8b88-d802ca349f04"
      },
      "execution_count": 8,
      "outputs": [
        {
          "output_type": "stream",
          "name": "stdout",
          "text": [
            "Model: \"model\"\n",
            "_________________________________________________________________\n",
            " Layer (type)                Output Shape              Param #   \n",
            "=================================================================\n",
            " input_1 (InputLayer)        [(None, 32, 32, 3)]       0         \n",
            "                                                                 \n",
            " block1_conv1 (Conv2D)       (None, 32, 32, 64)        1792      \n",
            "                                                                 \n",
            " block1_conv2 (Conv2D)       (None, 32, 32, 64)        36928     \n",
            "                                                                 \n",
            " block1_pool (MaxPooling2D)  (None, 16, 16, 64)        0         \n",
            "                                                                 \n",
            " block2_conv1 (Conv2D)       (None, 16, 16, 128)       73856     \n",
            "                                                                 \n",
            " block2_conv2 (Conv2D)       (None, 16, 16, 128)       147584    \n",
            "                                                                 \n",
            " block2_pool (MaxPooling2D)  (None, 8, 8, 128)         0         \n",
            "                                                                 \n",
            " block3_conv1 (Conv2D)       (None, 8, 8, 256)         295168    \n",
            "                                                                 \n",
            " block3_conv2 (Conv2D)       (None, 8, 8, 256)         590080    \n",
            "                                                                 \n",
            " block3_conv3 (Conv2D)       (None, 8, 8, 256)         590080    \n",
            "                                                                 \n",
            " block3_pool (MaxPooling2D)  (None, 4, 4, 256)         0         \n",
            "                                                                 \n",
            " block4_conv1 (Conv2D)       (None, 4, 4, 512)         1180160   \n",
            "                                                                 \n",
            " block4_conv2 (Conv2D)       (None, 4, 4, 512)         2359808   \n",
            "                                                                 \n",
            " block4_conv3 (Conv2D)       (None, 4, 4, 512)         2359808   \n",
            "                                                                 \n",
            " block4_pool (MaxPooling2D)  (None, 2, 2, 512)         0         \n",
            "                                                                 \n",
            " block5_conv1 (Conv2D)       (None, 2, 2, 512)         2359808   \n",
            "                                                                 \n",
            " block5_conv2 (Conv2D)       (None, 2, 2, 512)         2359808   \n",
            "                                                                 \n",
            " block5_conv3 (Conv2D)       (None, 2, 2, 512)         2359808   \n",
            "                                                                 \n",
            " block5_pool (MaxPooling2D)  (None, 1, 1, 512)         0         \n",
            "                                                                 \n",
            " flatten (Flatten)           (None, 512)               0         \n",
            "                                                                 \n",
            " dense (Dense)               (None, 10)                5130      \n",
            "                                                                 \n",
            "=================================================================\n",
            "Total params: 14,719,818\n",
            "Trainable params: 5,130\n",
            "Non-trainable params: 14,714,688\n",
            "_________________________________________________________________\n"
          ]
        }
      ]
    },
    {
      "cell_type": "code",
      "source": [
        "(x_train, y_train), (x_test, y_test) = tensorflow.keras.datasets.cifar10.load_data()"
      ],
      "metadata": {
        "id": "HKBI9iwc4CTI"
      },
      "execution_count": 9,
      "outputs": []
    },
    {
      "cell_type": "code",
      "source": [
        "x_train.shape , y_train.shape , x_test.shape , y_test.shape"
      ],
      "metadata": {
        "colab": {
          "base_uri": "https://localhost:8080/"
        },
        "id": "YHka5UlY6B9x",
        "outputId": "b2bde371-6f2d-4b97-a5ae-e800e2226c46"
      },
      "execution_count": 10,
      "outputs": [
        {
          "output_type": "execute_result",
          "data": {
            "text/plain": [
              "((50000, 32, 32, 3), (50000, 1), (10000, 32, 32, 3), (10000, 1))"
            ]
          },
          "metadata": {},
          "execution_count": 10
        }
      ]
    },
    {
      "cell_type": "code",
      "source": [
        "x_train = x_train[0:20000]\n",
        "y_train = y_train[0:20000]"
      ],
      "metadata": {
        "id": "iY01ldgIyL51"
      },
      "execution_count": 11,
      "outputs": []
    },
    {
      "cell_type": "code",
      "source": [
        "import pandas as pd \n",
        "pd.DataFrame(y_train).value_counts()"
      ],
      "metadata": {
        "colab": {
          "base_uri": "https://localhost:8080/"
        },
        "id": "o9vUOXTyyj6L",
        "outputId": "a9bf6976-6040-477a-ab80-f4d945c3b017"
      },
      "execution_count": 12,
      "outputs": [
        {
          "output_type": "execute_result",
          "data": {
            "text/plain": [
              "2    2042\n",
              "6    2038\n",
              "7    2027\n",
              "8    2012\n",
              "3    2011\n",
              "4    2009\n",
              "0    1989\n",
              "1    1981\n",
              "9    1966\n",
              "5    1925\n",
              "dtype: int64"
            ]
          },
          "metadata": {},
          "execution_count": 12
        }
      ]
    },
    {
      "cell_type": "code",
      "source": [
        "model1.compile(optimizer='adam' , loss='categorical_crossentropy' , metrics =['accuracy'])"
      ],
      "metadata": {
        "id": "bN_TdiUY6S3n"
      },
      "execution_count": 17,
      "outputs": []
    },
    {
      "cell_type": "code",
      "source": [
        "x_train = np.array([cv2.resize(x , (32,32), interpolation = cv2.INTER_AREA) for x in x_train])\n",
        "x_test = np.array([cv2.resize(x , (32,32), interpolation = cv2.INTER_AREA) for x in x_test])"
      ],
      "metadata": {
        "id": "_D7DGChgDi1M"
      },
      "execution_count": 18,
      "outputs": []
    },
    {
      "cell_type": "code",
      "source": [
        "train_datagen = ImageDataGenerator(rescale = 1./255)\n",
        "train_datagen.fit(x_train)\n",
        "test_datagen = ImageDataGenerator(rescale = 1./255)\n",
        "test_datagen.fit(x_test)"
      ],
      "metadata": {
        "id": "95BG2mj5Mm6B"
      },
      "execution_count": 19,
      "outputs": []
    },
    {
      "cell_type": "code",
      "source": [
        "train_data = train_datagen.flow(x_train,y_train , batch_size = 20)\n",
        "test_data = test_datagen.flow(x_test , y_test , batch_size = 20)"
      ],
      "metadata": {
        "id": "9Ly6hVjkMpde"
      },
      "execution_count": 20,
      "outputs": []
    },
    {
      "cell_type": "code",
      "source": [
        "history = model1.fit(train_data , validation_data=test_data, epochs = 1000) "
      ],
      "metadata": {
        "id": "CZ2bq9MBIx5X"
      },
      "execution_count": null,
      "outputs": []
    },
    {
      "cell_type": "code",
      "source": [
        "model1.save('cifar.h5')"
      ],
      "metadata": {
        "id": "JKOoho93Sc3s"
      },
      "execution_count": null,
      "outputs": []
    },
    {
      "cell_type": "code",
      "source": [
        "new_model = tensorflow.keras.models.load_model('cifar.h5')"
      ],
      "metadata": {
        "id": "MUJMEXPNMHzx"
      },
      "execution_count": 22,
      "outputs": []
    },
    {
      "cell_type": "code",
      "source": [
        "img = load_img('truck.jfif' , target_size = (32,32))\n",
        "img = img_to_array(img)\n",
        "img = np.expand_dims(img, axis = 0)\n",
        "img = preprocess_input(img)"
      ],
      "metadata": {
        "id": "dPW_sCL7TBjT"
      },
      "execution_count": 23,
      "outputs": []
    },
    {
      "cell_type": "code",
      "source": [
        "prediction = new_model.predict(img)"
      ],
      "metadata": {
        "id": "nytKMw_wUAMl"
      },
      "execution_count": 24,
      "outputs": []
    },
    {
      "cell_type": "code",
      "source": [
        "result = np.argmax(prediction)"
      ],
      "metadata": {
        "id": "EWUkIz8UWcNC"
      },
      "execution_count": 25,
      "outputs": []
    },
    {
      "cell_type": "code",
      "source": [
        "labels = ['airplane', 'automobile' ,'bird' ,'cat' ,'deer' ,'dog', 'frog' ,'horse', 'ship' ,'truck']"
      ],
      "metadata": {
        "id": "_7QjLTRdXH1a"
      },
      "execution_count": 26,
      "outputs": []
    },
    {
      "cell_type": "code",
      "source": [
        "labels[result]"
      ],
      "metadata": {
        "colab": {
          "base_uri": "https://localhost:8080/",
          "height": 35
        },
        "id": "Bm4W95KkYYR9",
        "outputId": "18facf28-f14c-4ebe-ba0a-dbe2c1302a42"
      },
      "execution_count": 27,
      "outputs": [
        {
          "output_type": "execute_result",
          "data": {
            "application/vnd.google.colaboratory.intrinsic+json": {
              "type": "string"
            },
            "text/plain": [
              "'truck'"
            ]
          },
          "metadata": {},
          "execution_count": 27
        }
      ]
    }
  ]
}
